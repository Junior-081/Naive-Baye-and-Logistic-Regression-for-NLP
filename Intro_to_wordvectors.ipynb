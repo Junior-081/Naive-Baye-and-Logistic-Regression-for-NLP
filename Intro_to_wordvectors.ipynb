{
  "cells": [
    {
      "cell_type": "markdown",
      "metadata": {
        "id": "Qw94Q_tXZV1P"
      },
      "source": [
        "\n",
        "<h1 style=\"font-family:verdana;font-size:300%;text-align:center;background-color:#f2f2f2;color:#0d0d0d\">AMMI NLP - Review sessions</h1>\n",
        "\n",
        "<h1 style=\"font-family:verdana;font-size:180%;text-align:Center;color:#993333\"> Lab 2: Introduction to wordvectors </h1>"
      ]
    },
    {
      "cell_type": "markdown",
      "metadata": {
        "id": "iBqFBitZZV1R"
      },
      "source": [
        "**Big thanks to Amr Khalifa who improved this lab and made it to a Jupyter Notebook!**"
      ]
    },
    {
      "cell_type": "code",
      "source": [
        "from google.colab import drive\n",
        "drive.mount('/content/drive')"
      ],
      "metadata": {
        "colab": {
          "base_uri": "https://localhost:8080/"
        },
        "id": "4ViRbh-Fg76K",
        "outputId": "59c63387-1327-4824-e215-47f26bd4b222"
      },
      "execution_count": 1,
      "outputs": [
        {
          "output_type": "stream",
          "name": "stdout",
          "text": [
            "Mounted at /content/drive\n"
          ]
        }
      ]
    },
    {
      "cell_type": "code",
      "execution_count": 84,
      "metadata": {
        "id": "dKW9MCaAZV1R"
      },
      "outputs": [],
      "source": [
        "import io, sys\n",
        "import numpy as np\n",
        "import warnings\n",
        "warnings.filterwarnings(\"ignore\")"
      ]
    },
    {
      "cell_type": "code",
      "execution_count": 3,
      "metadata": {
        "id": "5VE9j-z2ZV1S"
      },
      "outputs": [],
      "source": [
        "def load_vectors(filename):\n",
        "    fin = io.open(filename, 'r', encoding='utf-8', newline='\\n')\n",
        "    n, d = map(int, fin.readline().split())\n",
        "    data = {}\n",
        "    for line in fin:\n",
        "        tokens = line.rstrip().split(' ')\n",
        "        data[tokens[0]] = np.asarray([float(x) for x in tokens[1:]])\n",
        "    return data"
      ]
    },
    {
      "cell_type": "code",
      "execution_count": 4,
      "metadata": {
        "id": "DfxCy662ZV1S",
        "colab": {
          "base_uri": "https://localhost:8080/"
        },
        "outputId": "a7a4266d-570f-46d1-d1a4-4e1ab7db55ab"
      },
      "outputs": [
        {
          "output_type": "stream",
          "name": "stdout",
          "text": [
            "\n",
            " ** Word vectors ** \n",
            "\n",
            "<class 'numpy.ndarray'> 300\n"
          ]
        }
      ],
      "source": [
        "# Loading word vectors\n",
        "\n",
        "print('')\n",
        "print(' ** Word vectors ** ')\n",
        "print('')\n",
        "\n",
        "'''\n",
        "word_vectors is a dictionary that maps words to their numerical word vector\n",
        "[word (string)] = [np-array] \n",
        "'''\n",
        "word_vectors = load_vectors('/content/drive/MyDrive/NLP-LAB/session2/wiki.en.vec')\n",
        "\n",
        "tree_vector = word_vectors['tree']\n",
        "print(type(tree_vector), len(tree_vector))"
      ]
    },
    {
      "cell_type": "code",
      "execution_count": 119,
      "metadata": {
        "id": "ihzlf6BUZV1S"
      },
      "outputs": [],
      "source": [
        "## This function computes the cosine similarity between vectors u and v\n",
        "\n",
        "def cosine(u, v):\n",
        "    '''\n",
        "    Parameters:\n",
        "    u : 1-D numpy array\n",
        "    v : 1-D numpy array \n",
        "    \n",
        "    Returns:\n",
        "    cos (float) : value of the cosine similairy between vectors u, v \n",
        "    '''\n",
        "    ## FILL CODE\n",
        "    cos= (u.T @ v)/(np.linalg.norm(u) * np.linalg.norm(v))\n",
        "    \n",
        "    return cos \n"
      ]
    },
    {
      "cell_type": "code",
      "execution_count": 120,
      "metadata": {
        "id": "YBGRXkMnZV1T",
        "colab": {
          "base_uri": "https://localhost:8080/"
        },
        "outputId": "5a337061-af1f-496c-90f5-c4d56c49cf1b"
      },
      "outputs": [
        {
          "output_type": "stream",
          "name": "stdout",
          "text": [
            "similarity(apple, apples) = 0.637\n",
            "similarity(apple, banana) = 0.431\n",
            "similarity(apple, tiger) = 0.212\n"
          ]
        }
      ],
      "source": [
        "# compute similarity between words\n",
        "\n",
        "print('similarity(apple, apples) = %.3f' %\n",
        "      cosine(word_vectors['apple'], word_vectors['apples']))\n",
        "print('similarity(apple, banana) = %.3f' %\n",
        "      cosine(word_vectors['apple'], word_vectors['banana']))\n",
        "print('similarity(apple, tiger) = %.3f' %\n",
        "      cosine(word_vectors['apple'], word_vectors['tiger']))"
      ]
    },
    {
      "cell_type": "code",
      "source": [
        "# print(word_vectors.keys())\n",
        "# for key in word_vectors:\n",
        "#     print(key, ' : ', word_vectors[key])\n"
      ],
      "metadata": {
        "id": "iKRrRzW9tX2E"
      },
      "execution_count": 121,
      "outputs": []
    },
    {
      "cell_type": "code",
      "source": [
        ""
      ],
      "metadata": {
        "id": "Xs8VAsMhvLCN"
      },
      "execution_count": 121,
      "outputs": []
    },
    {
      "cell_type": "code",
      "execution_count": 122,
      "metadata": {
        "id": "DN7FWn8aZV1T"
      },
      "outputs": [],
      "source": [
        "## Functions for nearest neighbor\n",
        "## This function returns the word corresponding to \n",
        "## nearest neighbor vector of x\n",
        "## The list exclude_words can be used to exclude some\n",
        "## words from the nearest neighbors search\n",
        "\n",
        "def nearest_neighbor(x, word_vectors, exclude_words=[]):\n",
        "    '''\n",
        "    Parameters:\n",
        "    x (string): word to find its nearest neighbour \n",
        "    word_vectors (Python dict): {word (string): np-array of word vector}\n",
        "    exclude_words (list of strings): words to be excluded from the search\n",
        "    \n",
        "    Returns:\n",
        "    best_word (string) : the word whose word vector is the nearest neighbour \n",
        "    to the word vector of x\n",
        "    '''\n",
        "    best_score = -1.0\n",
        "    best_word = None\n",
        "    ## FILL CODE\n",
        "\n",
        "    #list of the keys of \n",
        "    list_key = list(word_vectors.keys())\n",
        "    linearitycos=[]\n",
        "    for word in  word_vectors:\n",
        "      if word not in exclude_words:\n",
        "        linearitycos.append(cosine(x,word_vectors[word]))\n",
        "    nearneighbor=np.argmax(linearitycos)\n",
        "    best_word=list_key[nearneighbor]\n",
        "            \n",
        "    return best_word"
      ]
    },
    {
      "cell_type": "code",
      "execution_count": 123,
      "metadata": {
        "id": "DeI4hPIWZV1U",
        "colab": {
          "base_uri": "https://localhost:8080/"
        },
        "outputId": "24cd644d-7136-423e-de5c-4cd24fb67d82"
      },
      "outputs": [
        {
          "output_type": "stream",
          "name": "stdout",
          "text": [
            "\n",
            "The nearest neighbor of cat is: dog\n"
          ]
        }
      ],
      "source": [
        "print('')\n",
        "print('The nearest neighbor of cat is: ' +\n",
        "      nearest_neighbor(word_vectors['cat'], word_vectors, exclude_words = ['cat', 'cats']))"
      ]
    },
    {
      "cell_type": "markdown",
      "metadata": {
        "id": "gKB_fywJZV1U"
      },
      "source": [
        "#### Hint (using python priorty queues with the heapq datastructure): \n",
        "if you don't want to store all the words and scores you can use the priortiy queue and only store the best K element so far. "
      ]
    },
    {
      "cell_type": "code",
      "execution_count": 124,
      "metadata": {
        "id": "L1qXlgTYZV1U"
      },
      "outputs": [],
      "source": [
        "\n",
        "## This function return the words corresponding to the\n",
        "## K nearest neighbors of vector x.\n",
        "## You can use the functions heappush and heappop.\n",
        "\n",
        "def knn(x, vectors, k):\n",
        "    '''\n",
        "    Parameters:\n",
        "    x (string): word to find its nearest neighbour \n",
        "    word_vectors (Python dict): {word (string): np-array of word vector}\n",
        "    k (int): number of nearest neighbours to be found\n",
        "    \n",
        "    Returns: \n",
        "    k_nearest_neighbors (list of tuples): [(score, word), (score, word), ....]\n",
        "    '''\n",
        "\n",
        "    \n",
        "    ## FILL CODE\n",
        "    list_key = list(word_vectors.keys())\n",
        "    linearitycos=[]\n",
        "    for word in  word_vectors:\n",
        "        linearitycos.append(cosine(x,word_vectors[word]))\n",
        "    nearneighbor=np.argsort(linearitycos)\n",
        "    best_ind=nearneighbor[::-1][:k]\n",
        "    k_nearest_neighbors = []\n",
        "    for i in best_ind:\n",
        "      k_nearest_neighbors.append((linearitycos[i],list_key[i]))\n",
        "        \n",
        "    return k_nearest_neighbors"
      ]
    },
    {
      "cell_type": "code",
      "execution_count": 125,
      "metadata": {
        "id": "vtfDcHVrZV1U",
        "colab": {
          "base_uri": "https://localhost:8080/"
        },
        "outputId": "cd9e93ca-3cab-4b6b-bfe0-6caed7c2adbc"
      },
      "outputs": [
        {
          "output_type": "stream",
          "name": "stdout",
          "text": [
            "\n",
            "cat\n",
            "--------------\n",
            "cat\t1.000\n",
            "cats\t0.732\n",
            "dog\t0.638\n",
            "pet\t0.573\n",
            "rabbit\t0.549\n"
          ]
        }
      ],
      "source": [
        "knn_cat = knn(word_vectors['cat'], word_vectors, 5)\n",
        "print('')\n",
        "print('cat')\n",
        "print('--------------')\n",
        "for score, word in knn(word_vectors['cat'], word_vectors, 5):\n",
        "    print (word + '\\t%.3f' % score)\n"
      ]
    },
    {
      "cell_type": "markdown",
      "metadata": {
        "id": "IPKDSBQ3ZV1V"
      },
      "source": [
        "#### Hint: \n",
        "To find the analogies, we find the nearest neighbour associated with the wordvector d\n",
        "$$ d = \\frac{c}{\\Vert {c} \\Vert} + \\frac{b}{\\Vert {b} \\Vert} - \\frac{a}{\\Vert {a} \\Vert}$$\n"
      ]
    },
    {
      "cell_type": "code",
      "execution_count": 126,
      "metadata": {
        "id": "qXRhX3aEZV1V"
      },
      "outputs": [],
      "source": [
        "## This function return the words d, such that a:b and c:d\n",
        "## verifies the same relation\n",
        "\n",
        "def analogy(a, b, c, word_vectors):\n",
        "    '''\n",
        "    Parameters:\n",
        "    a (string): word a\n",
        "    b (string): word b\n",
        "    c (string): word c\n",
        "    word_vectors (Python dict): {word (string): np-array of word vector}\n",
        "    \n",
        "    Returnrs: \n",
        "    the word d (string) associated with c such that c:d is similar to a:b \n",
        "    \n",
        "    '''\n",
        "    ## FILL CODE\n",
        "\n",
        "    # d = (c/np.linalg.norm(c)) +( b/np.linalg.norm(b)) - (a/np.linalg.norm(a))\n",
        "\n",
        "\n",
        "    # converting each word to its lowercase\n",
        "    a,b,c = a.lower(),b.lower(),c.lower()\n",
        "\n",
        "    # # Similarity between |b-a| = |d-c| should be maximum\n",
        "    maximum_similarity = -9999\n",
        "\n",
        "    d = None\n",
        "      \n",
        "    words = word_vectors.keys()\n",
        "\n",
        "    va,vb,vc = word_vectors[a], word_vectors[b],word_vectors[c]\n",
        "\n",
        "    # to find d such that similarity\n",
        "    # (|b - c|, |d - c|) should be maximum\n",
        "    for i in words:\n",
        "        if i in [va,vb,vc]:\n",
        "            continue\n",
        "        similarity = cosine(vb-va,word_vectors[i]-vc)\n",
        "        \n",
        "        if similarity > maximum_similarity :\n",
        "          maximum_similarity = similarity\n",
        "          d = i  \n",
        "    return d"
      ]
    },
    {
      "cell_type": "code",
      "execution_count": 127,
      "metadata": {
        "id": "aFpy8SYMZV1V",
        "colab": {
          "base_uri": "https://localhost:8080/"
        },
        "outputId": "a1e2823b-4246-4d56-e93e-31bb80cd2499"
      },
      "outputs": [
        {
          "output_type": "stream",
          "name": "stdout",
          "text": [
            "\n",
            "france - paris + rome = italy\n"
          ]
        }
      ],
      "source": [
        "# Word analogies\n",
        "\n",
        "print('')\n",
        "print('france - paris + rome = ' + analogy('paris', 'france', 'rome', word_vectors))"
      ]
    },
    {
      "cell_type": "markdown",
      "metadata": {
        "id": "yxtxHzw6ZV1V"
      },
      "source": [
        "## A word about biases in word vectors"
      ]
    },
    {
      "cell_type": "code",
      "execution_count": 128,
      "metadata": {
        "id": "moDSwXDJZV1V",
        "colab": {
          "base_uri": "https://localhost:8080/"
        },
        "outputId": "4699f649-dd9c-4eff-f887-6a99d04028f6"
      },
      "outputs": [
        {
          "output_type": "stream",
          "name": "stdout",
          "text": [
            "\n",
            "similarity(genius, man) = 0.445\n",
            "similarity(genius, woman) = 0.325\n"
          ]
        }
      ],
      "source": [
        "## A word about biases in word vectors:\n",
        "\n",
        "print('')\n",
        "print('similarity(genius, man) = %.3f' %\n",
        "      cosine(word_vectors['man'], word_vectors['genius']))\n",
        "print('similarity(genius, woman) = %.3f' %\n",
        "      cosine(word_vectors['woman'], word_vectors['genius']))"
      ]
    },
    {
      "cell_type": "code",
      "execution_count": 142,
      "metadata": {
        "id": "Qf3uUbRXZV1V"
      },
      "outputs": [],
      "source": [
        "## Compute the association strength between:\n",
        "##   - a word w\n",
        "##   - two sets of attributes A and B\n",
        "\n",
        "def association_strength(w, A, B, vectors):\n",
        "    '''\n",
        "    Parameters:\n",
        "    w (string): word w\n",
        "    A (list of strings): The words belonging to set A\n",
        "    B (list of strings): The words belonging to set B\n",
        "    vectors (Python dict): {word (string): np-array of word vector}\n",
        "    \n",
        "    Returnrs: \n",
        "    strength (float): the value of the association strength \n",
        "    '''\n",
        "    \n",
        "    strength = 0.0\n",
        "    part_a = 0.0\n",
        "    part_b = 0.0 \n",
        "    \n",
        "    ## FILL CODE\n",
        "    for w1 in A:\n",
        "      part_a += 1/len(A) * cosine(vectors[w],vectors[w1])\n",
        "\n",
        "    for w2 in B:\n",
        "      part_b += 1/len(B) * cosine(vectors[w],vectors[w2])\n",
        "\n",
        "    strength = part_a - part_b\n",
        "\n",
        "    return strength"
      ]
    },
    {
      "cell_type": "code",
      "execution_count": 145,
      "metadata": {
        "id": "LXLd7ZeTZV1V"
      },
      "outputs": [],
      "source": [
        "## Perform the word embedding association test between:\n",
        "##   - two sets of words X and Y\n",
        "##   - two sets of attributes A and B\n",
        "\n",
        "def weat(X, Y, A, B, vectors):\n",
        "    '''\n",
        "    Parameters:\n",
        "    X (list of strings): The words belonging to set X\n",
        "    Y (list of strings): The words belonging to set Y\n",
        "    A (list of strings): The words belonging to set A\n",
        "    B (list of strings): The words belonging to set B\n",
        "    vectors (Python dict): {word (string): np-array of word vector}\n",
        "    \n",
        "    Returns: \n",
        "    score (float): the value of the group association strength  \n",
        "    '''\n",
        "    \n",
        "    score = 0.0\n",
        "\n",
        "    ## FILL CODE\n",
        "    as1=0.0\n",
        "    as2=0.0\n",
        "\n",
        "    for x in X :\n",
        "      as1 += association_strength(x, A, B, vectors)\n",
        "\n",
        "    for y in Y :\n",
        "      as2 += association_strength(y, A, B, vectors)\n",
        "\n",
        "    score = as1 - as2\n",
        "\n",
        "\n",
        "    return score"
      ]
    },
    {
      "cell_type": "code",
      "execution_count": 146,
      "metadata": {
        "id": "Y1voGC3UZV1W",
        "colab": {
          "base_uri": "https://localhost:8080/"
        },
        "outputId": "e653c369-210b-429c-8091-589419f86683"
      },
      "outputs": [
        {
          "output_type": "stream",
          "name": "stdout",
          "text": [
            "\n",
            "Word embedding association test: 0.847\n"
          ]
        }
      ],
      "source": [
        "## Replicate one of the experiments from:\n",
        "##\n",
        "## Semantics derived automatically from language corpora contain human-like biases\n",
        "## Caliskan, Bryson, Narayanan (2017)\n",
        "\n",
        "career = ['executive', 'management', 'professional', 'corporation', \n",
        "          'salary', 'office', 'business', 'career']\n",
        "family = ['home', 'parents', 'children', 'family',\n",
        "          'cousins', 'marriage', 'wedding', 'relatives']\n",
        "male = ['john', 'paul', 'mike', 'kevin', 'steve', 'greg', 'jeff', 'bill']\n",
        "female = ['amy', 'joan', 'lisa', 'sarah', 'diana', 'kate', 'ann', 'donna']\n",
        "\n",
        "print('')\n",
        "print('Word embedding association test: %.3f' %\n",
        "      weat(career, family, male, female, word_vectors))"
      ]
    },
    {
      "cell_type": "markdown",
      "metadata": {
        "id": "baP11t9JZV1W"
      },
      "source": [
        "## Word translation using word vectors\n",
        "\n",
        "In the following, we will use word vectors in English and French to translate words from English to French. The idea is to learn a linear function that maps English word vectors to their correponding French word vectors. To learn this linear mapping, we will use a small bilingual lexicon, that contains pairs of words in English and French that are translations of each other.\n",
        "\n",
        "The following function will load the small English-French bilingual lexicon:"
      ]
    },
    {
      "cell_type": "code",
      "execution_count": 147,
      "metadata": {
        "id": "HLYig5rSZV1W"
      },
      "outputs": [],
      "source": [
        "def load_lexicon(filename):\n",
        "    '''\n",
        "    Parameters:\n",
        "    filename(string): the path of the lexicon\n",
        "    \n",
        "    Returns:\n",
        "    data(list of pairs of string): the bilingual lexicon\n",
        "    '''\n",
        "    fin = io.open(filename, 'r', encoding='utf-8', newline='\\n')\n",
        "    data = []\n",
        "    for line in fin:\n",
        "        a, b = line.rstrip().split(' ')\n",
        "        data.append((a, b))\n",
        "    return data"
      ]
    },
    {
      "cell_type": "code",
      "execution_count": 150,
      "metadata": {
        "id": "JGL93jDJZV1W",
        "colab": {
          "base_uri": "https://localhost:8080/"
        },
        "outputId": "a656b907-ac4d-4305-f6ba-d0dabdf1ae41"
      },
      "outputs": [
        {
          "output_type": "stream",
          "name": "stdout",
          "text": [
            "[('the', 'le'), ('the', 'les'), ('the', 'la'), ('and', 'et'), ('was', 'fut')]\n"
          ]
        }
      ],
      "source": [
        "word_vectors_en = load_vectors('/content/drive/MyDrive/NLP-LAB/session2/wiki.en.vec')\n",
        "word_vectors_fr = load_vectors('/content/drive/MyDrive/NLP-LAB/session2/wiki.fr.vec')\n",
        "lexicon = load_lexicon(\"/content/drive/MyDrive/NLP-LAB/session2/lexicon-en-fr.txt\")\n",
        "print(lexicon[:5])"
      ]
    },
    {
      "cell_type": "code",
      "execution_count": 151,
      "metadata": {
        "id": "jI9Ctv4HZV1W"
      },
      "outputs": [],
      "source": [
        "# We split the lexicon into a train and validation set\n",
        "train = lexicon[:5000]\n",
        "valid = lexicon[5000:5100]"
      ]
    },
    {
      "cell_type": "markdown",
      "metadata": {
        "id": "p3zWHc9ZZV1W"
      },
      "source": [
        "The following function will learn the mapping from English to French. The idea is to build two matrices $X_{\\text{en}}$ and $X_{\\text{fr}}$, and to find a mapping $M$ that minimizes $||X_{\\text{en}} W - X_{\\text{fr}} ||_2$. In numpy, this mapping can be obtained by using the `numpy.linalg.lstsq` function."
      ]
    },
    {
      "cell_type": "code",
      "execution_count": 152,
      "metadata": {
        "id": "hPjSHDZjZV1W"
      },
      "outputs": [],
      "source": [
        "def align(word_vectors_en, word_vectors_fr, lexicon):\n",
        "    '''\n",
        "    Parameters:\n",
        "    word_vectors_en(dict: string -> np.array): English word vectors\n",
        "    word_vectors_en(dict: string -> np.array): French word vectors\n",
        "    lexicon(list of pairs of string): bilingual training lexicon\n",
        "    \n",
        "    Returns\n",
        "    mapping(np.array): the mapping from English to French vectors\n",
        "    '''\n",
        "    x_en, x_fr = [], []\n",
        "\n",
        "    for w in lexicon:\n",
        "      x_en.append(word_vectors_en[w[0]])\n",
        "      x_fr.append(word_vectors_fr[w[1]])\n",
        "\n",
        "    X_en=np.array(x_en)\n",
        "    X_fr=np.array(x_fr)\n",
        "\n",
        "    W = np.linalg.lstsq(X_en , X_fr)[0]\n",
        "  \n",
        "    ## FILL CODE\n",
        "    \n",
        "    return W"
      ]
    },
    {
      "cell_type": "code",
      "execution_count": 155,
      "metadata": {
        "id": "PQpRDvHUZV1W"
      },
      "outputs": [],
      "source": [
        "mapping = align(word_vectors_en, word_vectors_fr, lexicon)"
      ]
    },
    {
      "cell_type": "markdown",
      "metadata": {
        "id": "mE_lZ_BuZV1W"
      },
      "source": [
        "Given a mapping, a set of word English word vector and French word vectors, the next function will translate the English word to French. To do so, we apply the mapping on the English word, and retrieve the nearest neighbor of the obtained vector in the set of French word vectors. The translation is then the corresponding French word."
      ]
    },
    {
      "cell_type": "code",
      "execution_count": 156,
      "metadata": {
        "id": "ee5mbj6mZV1W"
      },
      "outputs": [],
      "source": [
        "def translate(word, word_vectors_en, word_vectors_fr, mapping):\n",
        "    '''\n",
        "    Parameters:\n",
        "    word(string): an English word\n",
        "    word_vectors_en(dict: string -> np.array): English word vectors\n",
        "    word_vectors_en(dict: string -> np.array): French word vectors\n",
        "    mapping(np.array): the mapping from English to French vectors\n",
        "    \n",
        "    Returns\n",
        "    A string containing the translation of the English word\n",
        "    '''\n",
        "    ## FILL CODE\n",
        "\n",
        "    #vector of words in english\n",
        "    vecen=word_vectors_en[word]\n",
        "\n",
        "    #mapping the vector english \n",
        "    vecfr=vecen @ mapping\n",
        "\n",
        "    transfr=nearest_neighbor(vecfr, word_vectors_fr, exclude_words=[])\n",
        "    return transfr"
      ]
    },
    {
      "cell_type": "code",
      "execution_count": 160,
      "metadata": {
        "id": "wZb91tk8ZV1X",
        "colab": {
          "base_uri": "https://localhost:8080/"
        },
        "outputId": "90cbd742-8b68-4963-e076-78376b62e256"
      },
      "outputs": [
        {
          "output_type": "stream",
          "name": "stdout",
          "text": [
            "chien\n",
            "machine\n",
            "apprentissage\n"
          ]
        }
      ],
      "source": [
        "print(translate(\"dog\", word_vectors_en, word_vectors_fr, mapping))\n",
        "print(translate(\"machine\", word_vectors_en, word_vectors_fr, mapping))\n",
        "print(translate(\"learning\", word_vectors_en, word_vectors_fr, mapping))"
      ]
    },
    {
      "cell_type": "markdown",
      "metadata": {
        "id": "L2oWBys5ZV1X"
      },
      "source": [
        "Finally, let's implement a function to evaluate this method on the validation lexicon:"
      ]
    },
    {
      "cell_type": "code",
      "execution_count": 163,
      "metadata": {
        "id": "npWKt9VQZV1X"
      },
      "outputs": [],
      "source": [
        "def evaluate(valid, word_vectors_en, word_vectors_fr, mapping):\n",
        "    '''\n",
        "    Parameters:\n",
        "    valid(a list of pairs of string): the validation lexicon\n",
        "    word_vectors_en(dict: string -> np.array): English word vectors\n",
        "    word_vectors_en(dict: string -> np.array): French word vectors\n",
        "    mapping(np.array): the mapping from English to French vectors\n",
        "    \n",
        "    Returns\n",
        "    Accuracy(float): the accuracy on the validation lexicon\n",
        "    '''\n",
        "    acc, n = 0.0, len(valid)\n",
        "    \n",
        "    ## FILL CODE\n",
        "    for a,b in valid:\n",
        "      transfr=translate(a, word_vectors_en, word_vectors_fr, mapping)\n",
        "      if transfr==b:\n",
        "        acc+=1\n",
        "\n",
        "    acc=acc*100/n\n",
        "\n",
        "\n",
        "    return acc"
      ]
    },
    {
      "cell_type": "code",
      "execution_count": 164,
      "metadata": {
        "id": "Ee_R6yjPZV1X",
        "colab": {
          "base_uri": "https://localhost:8080/"
        },
        "outputId": "6aba2581-2ed9-4c85-a176-dab9b0ce3bf9"
      },
      "outputs": [
        {
          "output_type": "execute_result",
          "data": {
            "text/plain": [
              "64.0"
            ]
          },
          "metadata": {},
          "execution_count": 164
        }
      ],
      "source": [
        "evaluate(valid, word_vectors_en, word_vectors_fr, mapping)"
      ]
    }
  ],
  "metadata": {
    "kernelspec": {
      "display_name": "Python 3",
      "language": "python",
      "name": "python3"
    },
    "language_info": {
      "codemirror_mode": {
        "name": "ipython",
        "version": 3
      },
      "file_extension": ".py",
      "mimetype": "text/x-python",
      "name": "python",
      "nbconvert_exporter": "python",
      "pygments_lexer": "ipython3",
      "version": "3.6.2+"
    },
    "colab": {
      "name": "Intro_to_wordvectors.ipynb",
      "provenance": [],
      "collapsed_sections": []
    },
    "accelerator": "GPU"
  },
  "nbformat": 4,
  "nbformat_minor": 0
}